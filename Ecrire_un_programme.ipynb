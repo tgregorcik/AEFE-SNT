{
  "nbformat": 4,
  "nbformat_minor": 0,
  "metadata": {
    "colab": {
      "name": "Ecrire un programme.ipynb",
      "version": "0.3.2",
      "provenance": [],
      "include_colab_link": true
    },
    "kernelspec": {
      "name": "python3",
      "display_name": "Python 3"
    }
  },
  "cells": [
    {
      "cell_type": "markdown",
      "metadata": {
        "id": "view-in-github",
        "colab_type": "text"
      },
      "source": [
        "<a href=\"https://colab.research.google.com/github/tgregorcik/AEFE-SNT/blob/master/Ecrire_un_programme.ipynb\" target=\"_parent\"><img src=\"https://colab.research.google.com/assets/colab-badge.svg\" alt=\"Open In Colab\"/></a>"
      ]
    },
    {
      "cell_type": "markdown",
      "metadata": {
        "id": "uupiXU3NbNt8",
        "colab_type": "text"
      },
      "source": [
        "# Le programme\n",
        "Communiquer avec un ordinateur demande un langage particulier : un langage de programmation\n",
        "(Scratch, Python, etc.). Il utilise un ensemble de mots et de règles appelés « instructions » et « syntaxe » et forme des programmes informatiques. Un programme est un ensemble d’opérations destinées à être exécutées par l’ordinateur. Une instruction correspond à une action.\n",
        "\n",
        "# Les variables\n",
        "Pour écrire un programme, il faut enregistrer les données nécessaires au traitement dans des espaces\n",
        "mémoires. Les variables désignent des emplacements de stockage. Dans un programme, elles sont\n",
        "repérées par des noms et prennent des valeurs qui peuvent évoluer au cours du temps.\n",
        "Une variable stocke une valeur dans un espace de la mémoire de l’ordinateur. Elle est désignée par un\n",
        "nom.\n",
        "Des valeurs sont affectées aux variables pendant l’exécution du programme. En Python, on affecte une\n",
        "valeur à une variable à l’aide du signe « = ».\n",
        "Une variable peut contenir des valeurs de différents types comme :\n",
        "– des nombres entiers (int) ;\n",
        "– des nombres décimaux, appelés aussi « flottants » (float) ;\n",
        "– des textes, appelés « chaînes de caractères » (str)\n"
      ]
    },
    {
      "cell_type": "code",
      "metadata": {
        "id": "uJcWVI6EbMh5",
        "colab_type": "code",
        "outputId": "e9c5d9a2-b258-4a80-da21-36b9c1aebdc6",
        "colab": {
          "base_uri": "https://localhost:8080/",
          "height": 69
        }
      },
      "source": [
        "entier1=2\n",
        "flottant=3.147\n",
        "texte=\"salut\"\n",
        "entier2=int(2.13)\n",
        "print(entier1)\n",
        "print(texte)\n",
        "print(entier1*flottant)"
      ],
      "execution_count": 0,
      "outputs": [
        {
          "output_type": "stream",
          "text": [
            "2\n",
            "salut\n",
            "6.294\n"
          ],
          "name": "stdout"
        }
      ]
    }
  ]
}